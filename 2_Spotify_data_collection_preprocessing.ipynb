{
 "cells": [
  {
   "cell_type": "code",
   "execution_count": 1,
   "id": "e88848b1-51ba-4434-bdf3-ee9a52abc7bc",
   "metadata": {},
   "outputs": [],
   "source": [
    "# Collect data from Spotify\n",
    "from spotipy.oauth2 import SpotifyClientCredentials\n",
    "import spotipy\n",
    "\n",
    "# Data Visualization\n",
    "from wordcloud import WordCloud\n",
    "import matplotlib.pyplot as plt\n",
    "from matplotlib import colors\n",
    "from termcolor import cprint\n",
    "import plotly.express as px\n",
    "import seaborn as sns\n",
    "import warnings\n",
    "\n",
    "# Data Preprocessing\n",
    "from sklearn.preprocessing import StandardScaler\n",
    "import pandas as pd\n",
    "\n",
    "warnings.filterwarnings(\"ignore\")"
   ]
  },
  {
   "cell_type": "code",
   "execution_count": 2,
   "id": "c8342c24-86d1-4f32-b1b8-9d72216155bb",
   "metadata": {},
   "outputs": [],
   "source": [
    "# setup api\n",
    "cid = \"5ce22bf9a89040eb895942284fe06912\"\n",
    "secret = \"28251d136c45461e88942dd633250ae4\"\n",
    "client_credentials_manager = SpotifyClientCredentials(client_id=cid, client_secret=secret)\n",
    "sp = spotipy.Spotify(client_credentials_manager=client_credentials_manager)"
   ]
  },
  {
   "cell_type": "code",
   "execution_count": 5,
   "id": "eb5d98d1-29d5-4c76-9220-7d5a4ff8e332",
   "metadata": {
    "tags": []
   },
   "outputs": [],
   "source": [
    "# Step 1: Read the CSV file containing song data\n",
    "df_songs = pd.read_csv('spotify_data_vn_all_ordered.csv')\n",
    "\n",
    "# Step 2: Extract song IDs from the DataFrame\n",
    "songs_list = []\n",
    "for index, row in df_songs.iterrows():\n",
    "    songs_data = {\n",
    "        'id': row['id'],  # Adjust 'id' to match the column name in your CSV if different\n",
    "    }\n",
    "    songs_list.append(songs_data)"
   ]
  },
  {
   "cell_type": "code",
   "execution_count": 6,
   "id": "17babcd9",
   "metadata": {},
   "outputs": [],
   "source": [
    "df_songs = pd.DataFrame(songs_list)"
   ]
  },
  {
   "cell_type": "code",
   "execution_count": 7,
   "id": "125fb8a7",
   "metadata": {},
   "outputs": [],
   "source": [
    "import time\n",
    "\n",
    "audio_features = []\n",
    "\n",
    "# Define the batch size\n",
    "batch_size = 100\n",
    "\n",
    "# Process IDs in batches\n",
    "for i in range(0, len(df_songs['id']), batch_size):\n",
    "    batch_ids = df_songs['id'][i:i + batch_size]\n",
    "    try:\n",
    "        results = sp.audio_features(batch_ids)\n",
    "        for result in results:\n",
    "            if result:  # Check if the result is not None\n",
    "                audio_data = {\n",
    "                    'id': result['id'],\n",
    "                    'danceability': result['danceability'],\n",
    "                    'energy': result['energy'],\n",
    "                    'key': result[\"key\"],\n",
    "                    'loudness': result[\"loudness\"],\n",
    "                    'mode': result['mode'],\n",
    "                    'speechiness': result['speechiness'],\n",
    "                    'acousticness': result['acousticness'],\n",
    "                    'instrumentalness': result['instrumentalness'],\n",
    "                    'liveness': result['liveness'],\n",
    "                    'valence': result['valence'],\n",
    "                    'tempo': result['tempo'],\n",
    "                    'time_signature': result['time_signature'],\n",
    "                }\n",
    "                audio_features.append(audio_data)\n",
    "            else:\n",
    "                print('Cannot retrieve audio features for song ID:', result['id'])\n",
    "    except Exception as e:\n",
    "        print(f\"An error occurred: {e}\")\n",
    "        print('Cannot retrieve audio features for batch:', batch_ids)\n",
    "        \n",
    "\n",
    "    # Optional: Add a sleep interval to avoid hitting rate limits (429)\n",
    "    time.sleep(1)\n",
    "\n",
    "# Convert to DataFrame if needed\n",
    "df_audio_features = pd.DataFrame(audio_features)\n"
   ]
  },
  {
   "cell_type": "code",
   "execution_count": 8,
   "id": "b96a3e4e",
   "metadata": {},
   "outputs": [],
   "source": [
    "df_audios  = pd.DataFrame(audio_features)"
   ]
  },
  {
   "cell_type": "code",
   "execution_count": 9,
   "id": "50972203-852d-4f91-8bd7-cb3419342a84",
   "metadata": {},
   "outputs": [],
   "source": [
    "# Merge audios and songs by ID\n",
    "df = pd.merge(df_songs, df_audios, on='id')\n",
    "# Save data into a CSV file\n",
    "df.to_csv('Top_songs_2018-Now.csv', index=False)"
   ]
  },
  {
   "cell_type": "code",
   "execution_count": 10,
   "id": "3bca879e-73b0-463f-9be4-06d2972a7457",
   "metadata": {},
   "outputs": [],
   "source": [
    "# Import songs dataset\n",
    "df_songs = pd.read_csv('Top_songs_2018-Now.csv')"
   ]
  },
  {
   "cell_type": "code",
   "execution_count": 11,
   "id": "b0c46e2f-afb9-43df-81fd-b0f1deac73bd",
   "metadata": {},
   "outputs": [
    {
     "data": {
      "text/plain": [
       "id                  0\n",
       "danceability        0\n",
       "energy              0\n",
       "key                 0\n",
       "loudness            0\n",
       "mode                0\n",
       "speechiness         0\n",
       "acousticness        0\n",
       "instrumentalness    0\n",
       "liveness            0\n",
       "valence             0\n",
       "tempo               0\n",
       "time_signature      0\n",
       "dtype: int64"
      ]
     },
     "execution_count": 11,
     "metadata": {},
     "output_type": "execute_result"
    }
   ],
   "source": [
    "df_songs.isnull().sum()"
   ]
  },
  {
   "cell_type": "markdown",
   "id": "924a32f3",
   "metadata": {},
   "source": []
  }
 ],
 "metadata": {
  "kernelspec": {
   "display_name": "Python 3",
   "language": "python",
   "name": "python3"
  },
  "language_info": {
   "codemirror_mode": {
    "name": "ipython",
    "version": 3
   },
   "file_extension": ".py",
   "mimetype": "text/x-python",
   "name": "python",
   "nbconvert_exporter": "python",
   "pygments_lexer": "ipython3",
   "version": "3.11.9"
  }
 },
 "nbformat": 4,
 "nbformat_minor": 5
}
